{
 "cells": [
  {
   "cell_type": "markdown",
   "id": "abe9edcf",
   "metadata": {},
   "source": [
    "# Programming_Assingment2"
   ]
  },
  {
   "cell_type": "markdown",
   "id": "d10e090b",
   "metadata": {},
   "source": [
    "### Q1.\tWrite a Python program to convert kilometers to miles?"
   ]
  },
  {
   "cell_type": "code",
   "execution_count": 3,
   "id": "7f9b757d",
   "metadata": {},
   "outputs": [
    {
     "name": "stdout",
     "output_type": "stream",
     "text": [
      "Enter kilometers to convert to miles --> 12.5\n",
      "12.5 km is equal to 7.767139875 miles\n"
     ]
    }
   ],
   "source": [
    "km = float(input(\"Enter kilometers to convert to miles --> \"))\n",
    "miles = km * 0.62137119\n",
    "\n",
    "print(f\"{km} km is equal to {miles} miles\")"
   ]
  },
  {
   "cell_type": "markdown",
   "id": "55957f60",
   "metadata": {},
   "source": [
    "### Q2.\tWrite a Python program to convert Celsius to Fahrenheit?"
   ]
  },
  {
   "cell_type": "code",
   "execution_count": 4,
   "id": "6df4a44d",
   "metadata": {},
   "outputs": [
    {
     "name": "stdout",
     "output_type": "stream",
     "text": [
      "Enter Celsius reading to covert to Fahrenheit --> 12.5\n",
      "12.5 Celsius is equal to 54.5 Fahrenheit\n"
     ]
    }
   ],
   "source": [
    "cel = float(input(\"Enter Celsius reading to covert to Fahrenheit --> \"))\n",
    "fahren = (cel * 1.8) + 32\n",
    "print(f\"{cel} Celsius is equal to {fahren} Fahrenheit\")"
   ]
  },
  {
   "cell_type": "markdown",
   "id": "1faaf3d0",
   "metadata": {},
   "source": [
    "### Q3. Write a Python program to display calendar?"
   ]
  },
  {
   "cell_type": "code",
   "execution_count": 12,
   "id": "55404cf3",
   "metadata": {},
   "outputs": [
    {
     "name": "stdout",
     "output_type": "stream",
     "text": [
      "      April 22\n",
      "Mo Tu We Th Fr Sa Su\n",
      "             1  2  3\n",
      " 4  5  6  7  8  9 10\n",
      "11 12 13 14 15 16 17\n",
      "18 19 20 21 22 23 24\n",
      "25 26 27 28 29 30\n",
      "\n"
     ]
    }
   ],
   "source": [
    "import calendar\n",
    "\n",
    "print(calendar.month(22, 4))"
   ]
  },
  {
   "cell_type": "code",
   "execution_count": 13,
   "id": "d371e5fe",
   "metadata": {},
   "outputs": [
    {
     "name": "stdout",
     "output_type": "stream",
     "text": [
      "                                  2022\n",
      "\n",
      "      January                   February                   March\n",
      "Mo Tu We Th Fr Sa Su      Mo Tu We Th Fr Sa Su      Mo Tu We Th Fr Sa Su\n",
      "                1  2          1  2  3  4  5  6          1  2  3  4  5  6\n",
      " 3  4  5  6  7  8  9       7  8  9 10 11 12 13       7  8  9 10 11 12 13\n",
      "10 11 12 13 14 15 16      14 15 16 17 18 19 20      14 15 16 17 18 19 20\n",
      "17 18 19 20 21 22 23      21 22 23 24 25 26 27      21 22 23 24 25 26 27\n",
      "24 25 26 27 28 29 30      28                        28 29 30 31\n",
      "31\n",
      "\n",
      "       April                      May                       June\n",
      "Mo Tu We Th Fr Sa Su      Mo Tu We Th Fr Sa Su      Mo Tu We Th Fr Sa Su\n",
      "             1  2  3                         1             1  2  3  4  5\n",
      " 4  5  6  7  8  9 10       2  3  4  5  6  7  8       6  7  8  9 10 11 12\n",
      "11 12 13 14 15 16 17       9 10 11 12 13 14 15      13 14 15 16 17 18 19\n",
      "18 19 20 21 22 23 24      16 17 18 19 20 21 22      20 21 22 23 24 25 26\n",
      "25 26 27 28 29 30         23 24 25 26 27 28 29      27 28 29 30\n",
      "                          30 31\n",
      "\n",
      "        July                     August                  September\n",
      "Mo Tu We Th Fr Sa Su      Mo Tu We Th Fr Sa Su      Mo Tu We Th Fr Sa Su\n",
      "             1  2  3       1  2  3  4  5  6  7                1  2  3  4\n",
      " 4  5  6  7  8  9 10       8  9 10 11 12 13 14       5  6  7  8  9 10 11\n",
      "11 12 13 14 15 16 17      15 16 17 18 19 20 21      12 13 14 15 16 17 18\n",
      "18 19 20 21 22 23 24      22 23 24 25 26 27 28      19 20 21 22 23 24 25\n",
      "25 26 27 28 29 30 31      29 30 31                  26 27 28 29 30\n",
      "\n",
      "      October                   November                  December\n",
      "Mo Tu We Th Fr Sa Su      Mo Tu We Th Fr Sa Su      Mo Tu We Th Fr Sa Su\n",
      "                1  2          1  2  3  4  5  6                1  2  3  4\n",
      " 3  4  5  6  7  8  9       7  8  9 10 11 12 13       5  6  7  8  9 10 11\n",
      "10 11 12 13 14 15 16      14 15 16 17 18 19 20      12 13 14 15 16 17 18\n",
      "17 18 19 20 21 22 23      21 22 23 24 25 26 27      19 20 21 22 23 24 25\n",
      "24 25 26 27 28 29 30      28 29 30                  26 27 28 29 30 31\n",
      "31\n",
      "\n"
     ]
    }
   ],
   "source": [
    "import calendar\n",
    "\n",
    "print(calendar.calendar(2022))"
   ]
  },
  {
   "cell_type": "markdown",
   "id": "3a81d9d3",
   "metadata": {},
   "source": [
    "### Q4.\tWrite a Python program to solve quadratic equation?"
   ]
  },
  {
   "attachments": {
    "image.png": {
     "image/png": "[encoded data removed]"
    }
   },
   "cell_type": "markdown",
   "id": "a0f61797",
   "metadata": {},
   "source": [
    "![image.png](attachment:image.png)"
   ]
  },
  {
   "cell_type": "code",
   "execution_count": 27,
   "id": "f1df06f6",
   "metadata": {},
   "outputs": [
    {
     "name": "stdout",
     "output_type": "stream",
     "text": [
      "Enter value of a --> 10\n",
      "Enter value of b --> 11\n",
      "Enter value of c --> 12\n",
      "Quadratic Equation solutions 39.736476607482075 and -149.73647660748207\n"
     ]
    }
   ],
   "source": [
    "# Quadratic Equation Formula\n",
    "# ax^2+bx+c=0\n",
    "import math\n",
    "\n",
    "a = int(input(\"Enter value of a --> \"))\n",
    "b = int(input(\"Enter value of b --> \"))\n",
    "c = int(input(\"Enter value of c --> \"))\n",
    "\n",
    "\n",
    "dis = (b**2) - (4*a*c)\n",
    "dis_sqrt = math.sqrt(abs(dis))\n",
    "\n",
    "solution_1 = ((-b) + dis_sqrt)/2*a\n",
    "solution_2 = ((-b) - dis_sqrt)/2*a\n",
    "\n",
    "print(f\"Quadratic Equation solutions {solution_1} and {solution_2}\")"
   ]
  },
  {
   "cell_type": "markdown",
   "id": "a608c3d6",
   "metadata": {},
   "source": [
    "### Q5.\tWrite a Python program to swap two variables without temp variable?"
   ]
  },
  {
   "cell_type": "code",
   "execution_count": 28,
   "id": "a737bdad",
   "metadata": {},
   "outputs": [
    {
     "name": "stdout",
     "output_type": "stream",
     "text": [
      "Value of a and b before swap\n",
      "a = 10 , b = 20\n",
      "Value of a and b after swap\n",
      "a = 20 , b = 10\n"
     ]
    }
   ],
   "source": [
    "a = 10\n",
    "b = 20\n",
    "\n",
    "print(\"Value of a and b before swap\")\n",
    "print(f\"a = {a} , b = {b}\")\n",
    "\n",
    "\n",
    "a,b = b,a\n",
    "\n",
    "print(\"Value of a and b after swap\")\n",
    "print(f\"a = {a} , b = {b}\")\n",
    "\n"
   ]
  },
  {
   "cell_type": "code",
   "execution_count": null,
   "id": "e59f233d",
   "metadata": {},
   "outputs": [],
   "source": []
  }
 ],
 "metadata": {
  "kernelspec": {
   "display_name": "Python 3 (ipykernel)",
   "language": "python",
   "name": "python3"
  },
  "language_info": {
   "codemirror_mode": {
    "name": "ipython",
    "version": 3
   },
   "file_extension": ".py",
   "mimetype": "text/x-python",
   "name": "python",
   "nbconvert_exporter": "python",
   "pygments_lexer": "ipython3",
   "version": "3.9.12"
  }
 },
 "nbformat": 4,
 "nbformat_minor": 5
}
