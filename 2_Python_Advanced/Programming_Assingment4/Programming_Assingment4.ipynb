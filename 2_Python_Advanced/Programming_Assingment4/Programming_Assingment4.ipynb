{
 "cells": [
  {
   "cell_type": "code",
   "execution_count": null,
   "id": "ec26802b",
   "metadata": {
    "scrolled": true
   },
   "outputs": [],
   "source": []
  },
  {
   "cell_type": "markdown",
   "id": "956436c8",
   "metadata": {},
   "source": [
    "### Q1. Write a Python Program to Find the Factorial of a Number?"
   ]
  },
  {
   "cell_type": "code",
   "execution_count": 10,
   "id": "6ae0cfc3",
   "metadata": {},
   "outputs": [
    {
     "name": "stdout",
     "output_type": "stream",
     "text": [
      "Enter a number to find factorial --> 5\n",
      "120\n"
     ]
    }
   ],
   "source": [
    "fact_num = abs(int(float(input(\"Enter a number to find factorial --> \"))))\n",
    "factorial = 1\n",
    "\n",
    "for i in range(1,fact_num + 1):\n",
    "    factorial = factorial * i\n",
    "    \n",
    "print(factorial)"
   ]
  },
  {
   "cell_type": "markdown",
   "id": "5e1012f2",
   "metadata": {},
   "source": [
    "### Q2. Write a Python Program to Display the multiplication Table?"
   ]
  },
  {
   "cell_type": "code",
   "execution_count": 6,
   "id": "17d28fcb",
   "metadata": {},
   "outputs": [
    {
     "name": "stdout",
     "output_type": "stream",
     "text": [
      "Which table you want to display? --> 5\n",
      "0 X 5 = 0\n",
      "1 X 5 = 5\n",
      "2 X 5 = 10\n",
      "3 X 5 = 15\n",
      "4 X 5 = 20\n",
      "5 X 5 = 25\n",
      "6 X 5 = 30\n",
      "7 X 5 = 35\n",
      "8 X 5 = 40\n",
      "9 X 5 = 45\n",
      "10 X 5 = 50\n"
     ]
    }
   ],
   "source": [
    "table = int(float(input(\"Which table you want to display? --> \")))\n",
    "\n",
    "for i in range(0, 11):\n",
    "    print(f\"{i} X {table} = {i*table}\")"
   ]
  },
  {
   "cell_type": "markdown",
   "id": "7215a806",
   "metadata": {},
   "source": [
    "### Q3. Write a Python Program to Print the Fibonacci sequence?"
   ]
  },
  {
   "cell_type": "code",
   "execution_count": 4,
   "id": "1a927ec3",
   "metadata": {},
   "outputs": [
    {
     "name": "stdout",
     "output_type": "stream",
     "text": [
      "Enter the range to find Fibonacci Sequence --> 10\n",
      "1 1 2 3 5 8 13 21 34 55 "
     ]
    }
   ],
   "source": [
    "num = int(float(input(\"Enter the range to find Fibonacci Sequence --> \")))\n",
    "x = 0\n",
    "y = 1\n",
    "\n",
    "for i in range (num):\n",
    "    x, y = x+y,x\n",
    "    print(x, end=\" \")"
   ]
  },
  {
   "cell_type": "markdown",
   "id": "e5f90181",
   "metadata": {},
   "source": [
    "### Q4. Write a Python Program to Check Armstrong Number?"
   ]
  },
  {
   "cell_type": "code",
   "execution_count": 19,
   "id": "837e25dd",
   "metadata": {},
   "outputs": [
    {
     "name": "stdout",
     "output_type": "stream",
     "text": [
      "Enter a number to check whether is an Armstrong Number --> 371\n",
      "The Number 371 is an Armstrong Number\n"
     ]
    }
   ],
   "source": [
    "arms_check = abs(int(float(input(\"Enter a number to check whether is an Armstrong Number --> \"))))\n",
    "\n",
    "number_length = len(str(arms_check))\n",
    "temp_num = str(arms_check)\n",
    "arms_new = 0\n",
    "\n",
    "for i in temp_num:\n",
    "    arms_new = arms_new + (int(i) ** number_length)\n",
    "\n",
    "if arms_check == arms_new:\n",
    "    print(f\"The Number {arms_check} is an Armstrong Number\")\n",
    "else:\n",
    "    print(f\"The Number {arms_check} is not an Armstrong Number\")"
   ]
  },
  {
   "cell_type": "markdown",
   "id": "cd3a4b8e",
   "metadata": {},
   "source": [
    "### Q5. Write a Python Program to Find Armstrong Number in an Interval?"
   ]
  },
  {
   "cell_type": "code",
   "execution_count": 25,
   "id": "71933e1a",
   "metadata": {},
   "outputs": [
    {
     "name": "stdout",
     "output_type": "stream",
     "text": [
      "Enter the number range to find Armstrong numbers in the interval -- > 10000\n",
      "\n",
      "Armstrong Numbers between 1 to 10000 are : \n",
      "1 2 3 4 5 6 7 8 9 153 370 371 407 1634 8208 9474 "
     ]
    }
   ],
   "source": [
    "total_number = int(input(\"Enter the number range to find Armstrong numbers in the interval -- > \"))\n",
    "\n",
    "print(f\"\\nArmstrong Numbers between 1 to {total_number} are : \")\n",
    "\n",
    "for arms_check in range(1, total_number+1):\n",
    "    number_length = len(str(arms_check))\n",
    "    temp_num = str(arms_check)\n",
    "    arms_new = 0\n",
    "    for i in temp_num:\n",
    "        arms_new = arms_new + (int(i) ** number_length)\n",
    "    if arms_check == arms_new:\n",
    "        print(arms_check, end = \" \")\n"
   ]
  },
  {
   "cell_type": "markdown",
   "id": "225f713f",
   "metadata": {},
   "source": [
    "### Q6. Write a Python Program to Find the Sum of Natural Numbers?"
   ]
  },
  {
   "cell_type": "code",
   "execution_count": 27,
   "id": "a072ee9f",
   "metadata": {},
   "outputs": [
    {
     "name": "stdout",
     "output_type": "stream",
     "text": [
      "Enter a number to find Sum of Natural Numbers 100\n",
      "5050\n"
     ]
    }
   ],
   "source": [
    "sum_natural_num = abs(int(float(input(\"Enter a number to find Sum of Natural Numbers \"))))\n",
    "\n",
    "result = 0\n",
    "\n",
    "for i in range(1, sum_natural_num+1):\n",
    "    result = result + i\n",
    "    \n",
    "print(result)\n",
    "\n"
   ]
  },
  {
   "cell_type": "code",
   "execution_count": null,
   "id": "6db7a659",
   "metadata": {},
   "outputs": [],
   "source": []
  }
 ],
 "metadata": {
  "kernelspec": {
   "display_name": "Python 3 (ipykernel)",
   "language": "python",
   "name": "python3"
  },
  "language_info": {
   "codemirror_mode": {
    "name": "ipython",
    "version": 3
   },
   "file_extension": ".py",
   "mimetype": "text/x-python",
   "name": "python",
   "nbconvert_exporter": "python",
   "pygments_lexer": "ipython3",
   "version": "3.9.12"
  }
 },
 "nbformat": 4,
 "nbformat_minor": 5
}
