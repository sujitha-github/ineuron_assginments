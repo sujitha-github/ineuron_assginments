{
 "cells": [
  {
   "cell_type": "markdown",
   "id": "a9aabe7c",
   "metadata": {},
   "source": [
    "# Programming Assingnment - 1"
   ]
  },
  {
   "cell_type": "markdown",
   "id": "1c9c1dd1",
   "metadata": {},
   "source": [
    "### Q1.\tWrite a Python program to print \"Hello Python\"?"
   ]
  },
  {
   "cell_type": "code",
   "execution_count": 1,
   "id": "fd316b48",
   "metadata": {},
   "outputs": [
    {
     "name": "stdout",
     "output_type": "stream",
     "text": [
      "Hello Python\n"
     ]
    }
   ],
   "source": [
    "print(\"Hello Python\")"
   ]
  },
  {
   "cell_type": "markdown",
   "id": "a5817b82",
   "metadata": {},
   "source": [
    "### Q2.\tWrite a Python program to do arithmetical operations addition and division.?"
   ]
  },
  {
   "cell_type": "code",
   "execution_count": 2,
   "id": "b81a26ce",
   "metadata": {},
   "outputs": [
    {
     "name": "stdout",
     "output_type": "stream",
     "text": [
      "Addition of a and b:  15\n",
      "Division of a and b:  2.0\n"
     ]
    }
   ],
   "source": [
    "a = 10\n",
    "b = 5\n",
    "\n",
    "print(\"Addition of a and b: \", a+b)\n",
    "print(\"Division of a and b: \", a/b)"
   ]
  },
  {
   "cell_type": "markdown",
   "id": "fe90573a",
   "metadata": {},
   "source": [
    "### Q3.\tWrite a Python program to find the area of a triangle?"
   ]
  },
  {
   "cell_type": "code",
   "execution_count": 4,
   "id": "60333c9f",
   "metadata": {},
   "outputs": [
    {
     "name": "stdout",
     "output_type": "stream",
     "text": [
      "Enter length of side 1 --> 10\n",
      "Enter length of side 2 --> 12\n",
      "Enter length of side 3 --> 13\n",
      "Area of Triangle :  56.99506557588999\n"
     ]
    }
   ],
   "source": [
    "side1 = float(input(\"Enter length of side 1 --> \"))\n",
    "side2 = float(input(\"Enter length of side 2 --> \"))\n",
    "side3 = float(input(\"Enter length of side 3 --> \"))\n",
    "\n",
    "# semi perimeter \n",
    "sp = (side1 + side2 + side3)/2\n",
    "\n",
    "#Area of Triangle\n",
    "area_triangle = (sp*(sp-side1)*(sp-side2)*(sp-side3)) ** 0.5  \n",
    "\n",
    "print(\"Area of Triangle : \", area_triangle)"
   ]
  },
  {
   "cell_type": "markdown",
   "id": "cdb5afa1",
   "metadata": {},
   "source": [
    "### Q4.\tWrite a Python program to swap two variables?"
   ]
  },
  {
   "cell_type": "code",
   "execution_count": 9,
   "id": "07a17530",
   "metadata": {},
   "outputs": [
    {
     "name": "stdout",
     "output_type": "stream",
     "text": [
      "Value of a and b before swap\n",
      "a = 10, b = 20\n",
      "\n",
      "Value of a and b after swap\n",
      "a = 20, b = 10\n"
     ]
    }
   ],
   "source": [
    "a = 10\n",
    "b = 20\n",
    "\n",
    "print(\"Value of a and b before swap\")\n",
    "print(f\"a = {a}, b = {b}\")\n",
    "\n",
    "c = a\n",
    "a = b\n",
    "b = c\n",
    "\n",
    "print(\"\\nValue of a and b after swap\")\n",
    "print(f\"a = {a}, b = {b}\")"
   ]
  },
  {
   "cell_type": "markdown",
   "id": "93d83a57",
   "metadata": {},
   "source": [
    "### Q5.\tWrite a Python program to generate a random number?"
   ]
  },
  {
   "cell_type": "code",
   "execution_count": 13,
   "id": "e865401f",
   "metadata": {},
   "outputs": [
    {
     "name": "stdout",
     "output_type": "stream",
     "text": [
      "Random Value :  0.21344030862551577\n"
     ]
    }
   ],
   "source": [
    "import random as random\n",
    "a = random.random()\n",
    "print(\"Random Value : \",a)"
   ]
  }
 ],
 "metadata": {
  "kernelspec": {
   "display_name": "Python 3 (ipykernel)",
   "language": "python",
   "name": "python3"
  },
  "language_info": {
   "codemirror_mode": {
    "name": "ipython",
    "version": 3
   },
   "file_extension": ".py",
   "mimetype": "text/x-python",
   "name": "python",
   "nbconvert_exporter": "python",
   "pygments_lexer": "ipython3",
   "version": "3.9.12"
  }
 },
 "nbformat": 4,
 "nbformat_minor": 5
}
